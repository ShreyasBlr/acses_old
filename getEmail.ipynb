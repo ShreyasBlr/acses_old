{
 "cells": [
  {
   "cell_type": "code",
   "execution_count": 1,
   "metadata": {},
   "outputs": [],
   "source": [
    "import imaplib, email, os"
   ]
  },
  {
   "cell_type": "code",
   "execution_count": 2,
   "metadata": {},
   "outputs": [],
   "source": [
    "user = \"projectacses@gmail.com\"\n",
    "pwd = \"acses@1920\"\n",
    "imap_url = \"imap.gmail.com\""
   ]
  },
  {
   "cell_type": "code",
   "execution_count": 3,
   "metadata": {},
   "outputs": [
    {
     "data": {
      "text/plain": [
       "('OK', [b'projectacses@gmail.com authenticated (Success)'])"
      ]
     },
     "execution_count": 3,
     "metadata": {},
     "output_type": "execute_result"
    }
   ],
   "source": [
    "con = imaplib.IMAP4_SSL(imap_url)\n",
    "con.login(user,pwd)"
   ]
  },
  {
   "cell_type": "code",
   "execution_count": 4,
   "metadata": {},
   "outputs": [],
   "source": [
    "con.select(\"inbox\")\n",
    "result,data = con.uid('search',None,\"ALL\")"
   ]
  },
  {
   "cell_type": "code",
   "execution_count": 7,
   "metadata": {},
   "outputs": [],
   "source": [
    "inbox_item_list = data[0].split()\n",
    "latest_mail = inbox_item_list[-1]"
   ]
  },
  {
   "cell_type": "code",
   "execution_count": 8,
   "metadata": {},
   "outputs": [],
   "source": [
    "status,email_data = con.uid('fetch',latest_mail,'(RFC822)')"
   ]
  },
  {
   "cell_type": "code",
   "execution_count": 15,
   "metadata": {},
   "outputs": [],
   "source": [
    "raw_email = email_data[0][1].decode(\"utf-8\")"
   ]
  },
  {
   "cell_type": "code",
   "execution_count": 17,
   "metadata": {},
   "outputs": [],
   "source": [
    "message = email.message_from_string(raw_email)"
   ]
  },
  {
   "cell_type": "code",
   "execution_count": 24,
   "metadata": {},
   "outputs": [],
   "source": [
    "def get_body(msg):\n",
    "    if msg.is_multipart():\n",
    "        return get_body(msg.get_payload(0))\n",
    "    else:\n",
    "        return msg.get_payload(None,True)"
   ]
  },
  {
   "cell_type": "code",
   "execution_count": 25,
   "metadata": {},
   "outputs": [],
   "source": [
    "body = get_body(message)"
   ]
  },
  {
   "cell_type": "code",
   "execution_count": 26,
   "metadata": {},
   "outputs": [
    {
     "name": "stdout",
     "output_type": "stream",
     "text": [
      "From: Google <no-reply@accounts.google.com>\n",
      "Subject: Security alert\n",
      "Body: [image: Google]\r\n",
      "New device signed in to\r\n",
      "\r\n",
      "\r\n",
      "projectacses@gmail.com\r\n",
      "Your Google Account was just signed in to from a new Mac device. You're\r\n",
      "getting this email to make sure it was you.\r\n",
      "Check activity\r\n",
      "<https://accounts.google.com/AccountChooser?Email=projectacses@gmail.com&continue=https://myaccount.google.com/alert/nt/1585061750000?rfn%3D31%26rfnc%3D1%26eid%3D-5001444437092633431%26et%3D0%26anexp%3Dhsc-control_a>\r\n",
      "You received this email to let you know about important changes to your\r\n",
      "Google Account and services.\r\n",
      "© 2020 Google LLC, 1600 Amphitheatre Parkway, Mountain View, CA 94043, USA\r\n",
      "\n"
     ]
    }
   ],
   "source": [
    "print(\"From:\", message['From'])\n",
    "print(\"Subject:\", message['Subject'])\n",
    "print(\"Body:\", body.decode('utf-8'))"
   ]
  },
  {
   "cell_type": "code",
   "execution_count": null,
   "metadata": {},
   "outputs": [],
   "source": []
  }
 ],
 "metadata": {
  "kernelspec": {
   "display_name": "Python 3",
   "language": "python",
   "name": "python3"
  },
  "language_info": {
   "codemirror_mode": {
    "name": "ipython",
    "version": 3
   },
   "file_extension": ".py",
   "mimetype": "text/x-python",
   "name": "python",
   "nbconvert_exporter": "python",
   "pygments_lexer": "ipython3",
   "version": "3.7.6"
  }
 },
 "nbformat": 4,
 "nbformat_minor": 4
}
